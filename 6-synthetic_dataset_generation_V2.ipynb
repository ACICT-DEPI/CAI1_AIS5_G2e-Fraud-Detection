{
 "cells": [
  {
   "cell_type": "markdown",
   "metadata": {},
   "source": [
    "## Preparation"
   ]
  },
  {
   "cell_type": "code",
   "execution_count": 43,
   "metadata": {},
   "outputs": [],
   "source": [
    "import numpy as np\n",
    "import pandas as pd\n",
    "import matplotlib.pyplot as plt\n",
    "import seaborn as sns"
   ]
  },
  {
   "cell_type": "markdown",
   "metadata": {},
   "source": [
    "### Loading the Dataset"
   ]
  },
  {
   "cell_type": "code",
   "execution_count": 44,
   "metadata": {},
   "outputs": [
    {
     "name": "stdout",
     "output_type": "stream",
     "text": [
      "DataFrame shape before dropping outliers: (474592, 7)\n",
      "DataFrame shape after dropping outliers: (470621, 7)\n",
      "Rows Dropped: 3971\n"
     ]
    },
    {
     "data": {
      "text/html": [
       "<div>\n",
       "<style scoped>\n",
       "    .dataframe tbody tr th:only-of-type {\n",
       "        vertical-align: middle;\n",
       "    }\n",
       "\n",
       "    .dataframe tbody tr th {\n",
       "        vertical-align: top;\n",
       "    }\n",
       "\n",
       "    .dataframe thead th {\n",
       "        text-align: right;\n",
       "    }\n",
       "</style>\n",
       "<table border=\"1\" class=\"dataframe\">\n",
       "  <thead>\n",
       "    <tr style=\"text-align: right;\">\n",
       "      <th></th>\n",
       "      <th>V4</th>\n",
       "      <th>V10</th>\n",
       "      <th>V11</th>\n",
       "      <th>V12</th>\n",
       "      <th>V14</th>\n",
       "      <th>V17</th>\n",
       "      <th>Class</th>\n",
       "    </tr>\n",
       "  </thead>\n",
       "  <tbody>\n",
       "    <tr>\n",
       "      <th>0</th>\n",
       "      <td>1.378155</td>\n",
       "      <td>0.090794</td>\n",
       "      <td>-0.551600</td>\n",
       "      <td>-0.617801</td>\n",
       "      <td>-0.311169</td>\n",
       "      <td>0.207971</td>\n",
       "      <td>0</td>\n",
       "    </tr>\n",
       "    <tr>\n",
       "      <th>1</th>\n",
       "      <td>0.448154</td>\n",
       "      <td>-0.166974</td>\n",
       "      <td>1.612727</td>\n",
       "      <td>1.065235</td>\n",
       "      <td>-0.143772</td>\n",
       "      <td>-0.114805</td>\n",
       "      <td>0</td>\n",
       "    </tr>\n",
       "    <tr>\n",
       "      <th>2</th>\n",
       "      <td>0.379780</td>\n",
       "      <td>0.207643</td>\n",
       "      <td>0.624501</td>\n",
       "      <td>0.066084</td>\n",
       "      <td>-0.165946</td>\n",
       "      <td>1.109969</td>\n",
       "      <td>0</td>\n",
       "    </tr>\n",
       "    <tr>\n",
       "      <th>3</th>\n",
       "      <td>-0.863291</td>\n",
       "      <td>-0.054952</td>\n",
       "      <td>-0.226487</td>\n",
       "      <td>0.178228</td>\n",
       "      <td>-0.287924</td>\n",
       "      <td>-0.684093</td>\n",
       "      <td>0</td>\n",
       "    </tr>\n",
       "    <tr>\n",
       "      <th>4</th>\n",
       "      <td>0.403034</td>\n",
       "      <td>0.753074</td>\n",
       "      <td>-0.822843</td>\n",
       "      <td>0.538196</td>\n",
       "      <td>-1.119670</td>\n",
       "      <td>-0.237033</td>\n",
       "      <td>0</td>\n",
       "    </tr>\n",
       "  </tbody>\n",
       "</table>\n",
       "</div>"
      ],
      "text/plain": [
       "         V4       V10       V11       V12       V14       V17  Class\n",
       "0  1.378155  0.090794 -0.551600 -0.617801 -0.311169  0.207971      0\n",
       "1  0.448154 -0.166974  1.612727  1.065235 -0.143772 -0.114805      0\n",
       "2  0.379780  0.207643  0.624501  0.066084 -0.165946  1.109969      0\n",
       "3 -0.863291 -0.054952 -0.226487  0.178228 -0.287924 -0.684093      0\n",
       "4  0.403034  0.753074 -0.822843  0.538196 -1.119670 -0.237033      0"
      ]
     },
     "execution_count": 44,
     "metadata": {},
     "output_type": "execute_result"
    }
   ],
   "source": [
    "df = pd.read_csv(\"D:/project/depi-project/datasets/creditcard_balanced.csv\")\n",
    "\n",
    "\n",
    "features = [\"V4\", \"V10\", \"V11\", \"V12\", \"V14\", \"V17\"]\n",
    "print(f\"DataFrame shape before dropping outliers: {df.shape}\")\n",
    "rows_before = df.shape[0]\n",
    "\n",
    "for feature in features:\n",
    "    Q1 = df[feature].quantile(0.25)\n",
    "    Q3 = df[feature].quantile(0.75)\n",
    "    IQR = Q3 - Q1\n",
    "\n",
    "    # Define the lower and upper bounds for outliers\n",
    "    lower_bound = Q1 - 1.5 * IQR\n",
    "    upper_bound = Q3 + 1.5 * IQR\n",
    "\n",
    "    # Filter out the outliers\n",
    "    df = df[(df[feature] >= lower_bound) & (df[feature] <= upper_bound)]\n",
    "\n",
    "print(f\"DataFrame shape after dropping outliers: {df.shape}\")\n",
    "print(f\"Rows Dropped: {rows_before - df.shape[0]}\")\n",
    "df.head()"
   ]
  },
  {
   "cell_type": "code",
   "execution_count": 45,
   "metadata": {},
   "outputs": [],
   "source": [
    "temp=df[features]"
   ]
  },
  {
   "cell_type": "markdown",
   "metadata": {},
   "source": [
    "### Selecting Features and Target"
   ]
  },
  {
   "cell_type": "code",
   "execution_count": 46,
   "metadata": {},
   "outputs": [],
   "source": [
    "x = df[features]\n",
    "y = df[\"Class\"]\n",
    "temp=pd.concat([temp,y],axis=1)"
   ]
  },
  {
   "cell_type": "code",
   "execution_count": 47,
   "metadata": {},
   "outputs": [
    {
     "name": "stdout",
     "output_type": "stream",
     "text": [
      "233325\n"
     ]
    }
   ],
   "source": [
    "sum=0\n",
    "for i in y:\n",
    "    if i==0:\n",
    "        sum+=1\n",
    "    else:\n",
    "        continue\n",
    "print(sum)"
   ]
  },
  {
   "cell_type": "code",
   "execution_count": 48,
   "metadata": {},
   "outputs": [],
   "source": [
    "# # Optionally normalize the PCA-treated features\n",
    "# from sklearn.preprocessing import MinMaxScaler\n",
    "# scaler = MinMaxScaler(feature_range=(0, 1))\n",
    "# x_scaled = scaler.fit_transform(x)"
   ]
  },
  {
   "cell_type": "code",
   "execution_count": 49,
   "metadata": {},
   "outputs": [],
   "source": [
    "# Convert to numpy arrays\n",
    "# x_scaled = np.array(x_scaled)\n",
    "x = np.array(x)\n",
    "y = np.array(y)"
   ]
  },
  {
   "cell_type": "markdown",
   "metadata": {},
   "source": [
    "## ..."
   ]
  },
  {
   "cell_type": "markdown",
   "metadata": {},
   "source": [
    "cGAN (conditional GAN)"
   ]
  },
  {
   "cell_type": "code",
   "execution_count": 50,
   "metadata": {},
   "outputs": [],
   "source": [
    "import numpy as np\n",
    "import tensorflow as tf\n",
    "from tensorflow.keras.layers import Input, Dense, LeakyReLU, BatchNormalization, Dropout, Concatenate\n",
    "from tensorflow.keras.models import Model\n",
    "from tensorflow.keras.losses import BinaryCrossentropy\n",
    "from tensorflow.keras.optimizers import Adam\n",
    "import matplotlib.pyplot as plt"
   ]
  },
  {
   "cell_type": "code",
   "execution_count": 51,
   "metadata": {},
   "outputs": [],
   "source": [
    "# Define the generator model\n",
    "def build_generator(noise_dim, label_dim, output_dim):\n",
    "    noise_input = Input(shape=(noise_dim,))\n",
    "    label_input = Input(shape=(label_dim,))\n",
    "    merged_input = Concatenate()([noise_input, label_input])\n",
    "    x = Dense(512)(merged_input)\n",
    "    x = LeakyReLU(alpha=0.2)(x)\n",
    "    x = BatchNormalization()(x)\n",
    "    x = Dense(256)(merged_input)\n",
    "    x = LeakyReLU(alpha=0.2)(x)\n",
    "    x = BatchNormalization()(x)\n",
    "    x = Dense(128)(merged_input)\n",
    "    x = LeakyReLU(alpha=0.2)(x)\n",
    "    x = Dense(64)(x)\n",
    "    x = LeakyReLU(alpha=0.2)(x)\n",
    "    x = BatchNormalization()(x)\n",
    "    output = Dense(output_dim, activation=\"linear\")(x)\n",
    "\n",
    "    model = Model([noise_input, label_input], output)\n",
    "    return model"
   ]
  },
  {
   "cell_type": "code",
   "execution_count": 52,
   "metadata": {},
   "outputs": [],
   "source": [
    "# Define the discriminator model\n",
    "def build_discriminator(input_dim, label_dim):\n",
    "    data_input = Input(shape=(input_dim,))\n",
    "    label_input = Input(shape=(label_dim,))\n",
    "    merged_input = Concatenate()([data_input, label_input])\n",
    "\n",
    "    x = Dense(512)(merged_input)\n",
    "    x = LeakyReLU(alpha=0.2)(x)\n",
    "    x = BatchNormalization()(x)\n",
    "    x = Dropout(0.2)(x)\n",
    "    x = Dense(256)(x)\n",
    "    x = LeakyReLU(alpha=0.2)(x)\n",
    "    x = BatchNormalization()(x)\n",
    "    x = Dropout(0.2)(x)\n",
    "    x = Dense(128)(merged_input)\n",
    "    x = LeakyReLU(alpha=0.2)(x)\n",
    "    x = Dropout(0.2)(x)\n",
    "    x = Dense(128)(merged_input)\n",
    "    x = LeakyReLU(alpha=0.2)(x)\n",
    "    x = Dense(32)(x)\n",
    "    x = LeakyReLU(alpha=0.2)(x)\n",
    "    output = Dense(1, activation=\"sigmoid\")(x)\n",
    "\n",
    "    model = Model([data_input, label_input], output)\n",
    "    return model"
   ]
  },
  {
   "cell_type": "code",
   "execution_count": 53,
   "metadata": {},
   "outputs": [
    {
     "name": "stderr",
     "output_type": "stream",
     "text": [
      "d:\\project\\.venv\\Lib\\site-packages\\keras\\src\\layers\\activations\\leaky_relu.py:41: UserWarning: Argument `alpha` is deprecated. Use `negative_slope` instead.\n",
      "  warnings.warn(\n"
     ]
    }
   ],
   "source": [
    "# Set dimensions\n",
    "noise_dim = 200  # Dimension of the noise vector\n",
    "label_dim = 1  # Binary label (0 or 1)\n",
    "output_dim = x.shape[1]  # Assuming 'x' is your data with PCA components or structured data\n",
    "\n",
    "# Instantiate models\n",
    "generator = build_generator(noise_dim, label_dim, output_dim)\n",
    "discriminator = build_discriminator(output_dim, label_dim)\n",
    "\n",
    "# Define loss function and optimizers\n",
    "cross_entropy = BinaryCrossentropy(from_logits=False)\n",
    "generator_optimizer = Adam(3e-3)\n",
    "discriminator_optimizer = Adam(4e-3)\n",
    "\n",
    "# Training parameters\n",
    "SUBSET_SIZE = 10000  # You can adjust this\n",
    "BATCH_SIZE = 64\n",
    "HALF_BATCH = BATCH_SIZE // 2\n",
    "EPOCHS = 300  # Number of epochs for training\n",
    "\n",
    "# Create a random subset of the dataset (assuming x and y are numpy arrays)\n",
    "idx = np.random.randint(0, x.shape[0], SUBSET_SIZE)\n",
    "x_res_subset = x[idx]  \n",
    "y_res_subset = y[idx]  # Direct indexing for labels # Assuming y is your labels (0 or 1)\n",
    "\n",
    "# Build the dataset pipeline\n",
    "dataset = tf.data.Dataset.from_tensor_slices((x_res_subset, y_res_subset))\n",
    "dataset = dataset.shuffle(buffer_size=1024).batch(HALF_BATCH)\n"
   ]
  },
  {
   "cell_type": "code",
   "execution_count": 54,
   "metadata": {},
   "outputs": [
    {
     "name": "stdout",
     "output_type": "stream",
     "text": [
      "Epoch 0, Gen Loss: 0.7099, Disc Loss: 1.3762\n",
      "Epoch 10, Gen Loss: 1.3615, Disc Loss: 1.0179\n",
      "Epoch 20, Gen Loss: 8.6827, Disc Loss: 0.2759\n",
      "Epoch 30, Gen Loss: 1.1858, Disc Loss: 0.9816\n",
      "Epoch 40, Gen Loss: 1.1834, Disc Loss: 0.9352\n",
      "Epoch 50, Gen Loss: 1.9756, Disc Loss: 1.0742\n",
      "Epoch 60, Gen Loss: 1.2130, Disc Loss: 1.1058\n",
      "Epoch 70, Gen Loss: 1.5478, Disc Loss: 1.0407\n",
      "Epoch 80, Gen Loss: 2.8099, Disc Loss: 1.0603\n",
      "Epoch 90, Gen Loss: 1.0651, Disc Loss: 1.1192\n",
      "Epoch 100, Gen Loss: 1.1224, Disc Loss: 1.2429\n",
      "Epoch 110, Gen Loss: 1.9253, Disc Loss: 1.1809\n",
      "Epoch 120, Gen Loss: 1.3644, Disc Loss: 0.9727\n",
      "Epoch 130, Gen Loss: 1.8278, Disc Loss: 1.0624\n",
      "Epoch 140, Gen Loss: 1.6998, Disc Loss: 0.9119\n",
      "Epoch 150, Gen Loss: 1.7883, Disc Loss: 0.9186\n",
      "Epoch 160, Gen Loss: 1.6837, Disc Loss: 0.5078\n",
      "Epoch 170, Gen Loss: 1.5527, Disc Loss: 0.9621\n",
      "Epoch 180, Gen Loss: 1.9346, Disc Loss: 1.0257\n",
      "Epoch 190, Gen Loss: 2.6856, Disc Loss: 0.7485\n",
      "Epoch 200, Gen Loss: 1.7454, Disc Loss: 0.8128\n",
      "Epoch 210, Gen Loss: 1.8822, Disc Loss: 0.8000\n",
      "Epoch 220, Gen Loss: 1.8140, Disc Loss: 0.8583\n",
      "Epoch 230, Gen Loss: 1.5682, Disc Loss: 0.7782\n",
      "Epoch 240, Gen Loss: 2.2977, Disc Loss: 0.7579\n",
      "Epoch 250, Gen Loss: 1.4372, Disc Loss: 0.8200\n",
      "Epoch 260, Gen Loss: 2.9148, Disc Loss: 0.8892\n",
      "Epoch 270, Gen Loss: 1.7840, Disc Loss: 0.7635\n",
      "Epoch 280, Gen Loss: 1.6337, Disc Loss: 0.6667\n",
      "Epoch 290, Gen Loss: 1.9352, Disc Loss: 0.7276\n"
     ]
    },
    {
     "data": {
      "image/png": "[encoded data removed]",
      "text/plain": [
       "<Figure size 1200x600 with 1 Axes>"
      ]
     },
     "metadata": {},
     "output_type": "display_data"
    }
   ],
   "source": [
    "@tf.function\n",
    "def train_step(real_data, real_labels):\n",
    "    noise = tf.random.normal([BATCH_SIZE, noise_dim])\n",
    "    fake_labels = tf.random.uniform([BATCH_SIZE, 1], minval=0, maxval=2, dtype=tf.int32)\n",
    "    fake_labels = tf.cast(fake_labels, tf.float32)\n",
    "\n",
    "    with tf.GradientTape() as gen_tape, tf.GradientTape() as disc_tape:\n",
    "        generated_data = generator([noise, fake_labels], training=True)\n",
    "\n",
    "        real_output = discriminator([real_data, real_labels], training=True)\n",
    "        fake_output = discriminator([generated_data, fake_labels], training=True)\n",
    "\n",
    "        # Print the first 4 outputs of the discriminator for fake data using tf.print\n",
    "        # tf.print(\"Fake output:\", fake_output[0:4])\n",
    "\n",
    "        gen_loss = cross_entropy(tf.ones_like(fake_output), fake_output)\n",
    "        real_loss = cross_entropy(tf.ones_like(real_output), real_output)\n",
    "        fake_loss = cross_entropy(tf.zeros_like(fake_output), fake_output)\n",
    "        disc_loss = real_loss + fake_loss\n",
    "\n",
    "        gradients_of_generator = gen_tape.gradient(gen_loss, generator.trainable_variables)\n",
    "        gradients_of_discriminator = disc_tape.gradient(disc_loss, discriminator.trainable_variables)\n",
    "\n",
    "        generator_optimizer.apply_gradients(zip(gradients_of_generator, generator.trainable_variables))\n",
    "        discriminator_optimizer.apply_gradients(zip(gradients_of_discriminator, discriminator.trainable_variables))\n",
    "\n",
    "    return gen_loss, disc_loss\n",
    "\n",
    "# Training loop\n",
    "gen_losses, disc_losses = [], []\n",
    "\n",
    "for epoch in range(EPOCHS):\n",
    "    for real_samples, real_labels in dataset:\n",
    "        g_loss, d_loss = train_step(real_samples, real_labels)\n",
    "\n",
    "        # Store the losses\n",
    "        gen_losses.append(g_loss.numpy())\n",
    "        disc_losses.append(d_loss.numpy())\n",
    "\n",
    "    # Print progress every 10 epochs\n",
    "    if epoch % 10 == 0:\n",
    "        print(f\"Epoch {epoch}, Gen Loss: {g_loss.numpy():.4f}, Disc Loss: {d_loss.numpy():.4f}\")\n",
    "\n",
    "# Plot the losses\n",
    "plt.figure(figsize=(12, 6))\n",
    "plt.plot(gen_losses, label='Generator Loss')\n",
    "plt.plot(disc_losses, label='Discriminator Loss')\n",
    "plt.title('GAN Losses Over Time')\n",
    "plt.xlabel('Iteration')\n",
    "plt.ylabel('Loss')\n",
    "plt.legend()\n",
    "plt.show()"
   ]
  },
  {
   "cell_type": "code",
   "execution_count": 55,
   "metadata": {},
   "outputs": [
    {
     "name": "stdout",
     "output_type": "stream",
     "text": [
      "Generating data for class 0...\n",
      "Successfully generated data for class 0.\n",
      "Generating data for class 1...\n",
      "Successfully generated data for class 1.\n",
      "         V4       V10       V11       V12       V14       V17  Class\n",
      "0  1.101355  0.236568 -0.780997  0.032845  0.678855  0.062870    0.0\n",
      "1  0.144415 -0.306610 -0.132737  0.169754  0.460051 -0.000890    0.0\n",
      "2 -0.769277  1.296366 -1.366405 -1.213964  1.095386  0.686046    0.0\n",
      "3 -0.397786 -0.203818  0.783985  0.614663 -0.054173 -0.736337    0.0\n",
      "4  0.140990 -0.027486 -0.619310  0.340444  0.071187 -0.127888    0.0\n"
     ]
    }
   ],
   "source": [
    "import numpy as np\n",
    "import pandas as pd\n",
    "import tensorflow as tf\n",
    "\n",
    "def generate_synthetic_data_for_classes(generator, num_samples_per_class, noise_dim, label_dim, class_labels):\n",
    "    synthetic_data = []\n",
    "    \n",
    "    for class_label in class_labels:\n",
    "        print(f\"Generating data for class {class_label}...\")\n",
    "        \n",
    "        # Generate noise with the correct dimension\n",
    "        noise = tf.random.normal([num_samples_per_class, noise_dim])\n",
    "        \n",
    "        # Create labels for the current class as a tensor\n",
    "        labels = tf.constant(np.full((num_samples_per_class, label_dim), class_label, dtype=np.float32))\n",
    "\n",
    "        # Generate synthetic data using the generator\n",
    "        try:\n",
    "            generated_data = generator([noise, labels], training=False)  # Pass noise and labels as separate inputs\n",
    "            print(f\"Successfully generated data for class {class_label}.\")\n",
    "        except ValueError as e:\n",
    "            print(f\"Error generating data for class {class_label}: {e}\")\n",
    "            continue\n",
    "        \n",
    "        # Append the generated data with corresponding class labels\n",
    "        synthetic_data.append(np.column_stack((generated_data.numpy(), labels.numpy())))\n",
    "\n",
    "    # Check if synthetic_data is empty\n",
    "    if not synthetic_data:\n",
    "        print(\"No data was generated. Please check the generator.\")\n",
    "\n",
    "    # Combine all generated data into a single DataFrame if synthetic_data is not empty\n",
    "    if synthetic_data:\n",
    "        synthetic_data_combined = np.vstack(synthetic_data)\n",
    "        columns = [f'Feature_{i}' for i in range(synthetic_data_combined.shape[1] - 1)] + ['Class']\n",
    "        df_synthetic = pd.DataFrame(synthetic_data_combined, columns=columns)\n",
    "        return df_synthetic\n",
    "    else:\n",
    "        return pd.DataFrame()  # Return an empty DataFrame if no data was generated\n",
    "\n",
    "# Example usage\n",
    "class_labels = [0, 1]  # Adjust based on your classes\n",
    "num_samples_per_class = 1000  # Number of samples to generate for each class\n",
    "noise_dim = 200  # Ensure this matches the input shape of the generator\n",
    "label_dim = 1  # Dimension of the label input\n",
    "\n",
    "# Assuming your generator is defined and trained\n",
    "synthetic_samples_df = generate_synthetic_data_for_classes(generator, num_samples_per_class, noise_dim, label_dim, class_labels)\n",
    "# Specify the file name and path\n",
    "file_name = \"synthetic_samples.csv\"\n",
    "synthetic_samples_df.columns = temp.columns\n",
    "# Save the DataFrame to a CSV file\n",
    "synthetic_samples_df.to_csv(file_name, index=False)\n",
    "# Display the generated DataFrame if not empty\n",
    "if not synthetic_samples_df.empty:\n",
    "    print(synthetic_samples_df.head())\n",
    "else:\n",
    "    print(\"No synthetic samples were generated.\")\n"
   ]
  }
 ],
 "metadata": {
  "kernelspec": {
   "display_name": ".venv",
   "language": "python",
   "name": "python3"
  },
  "language_info": {
   "codemirror_mode": {
    "name": "ipython",
    "version": 3
   },
   "file_extension": ".py",
   "mimetype": "text/x-python",
   "name": "python",
   "nbconvert_exporter": "python",
   "pygments_lexer": "ipython3",
   "version": "3.11.9"
  }
 },
 "nbformat": 4,
 "nbformat_minor": 2
}
